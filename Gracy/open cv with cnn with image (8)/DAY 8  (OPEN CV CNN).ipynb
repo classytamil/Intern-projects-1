{
 "cells": [
  {
   "cell_type": "code",
   "execution_count": 1,
   "id": "71f44ae6-45c4-4b23-827e-c367d2e81d65",
   "metadata": {},
   "outputs": [
    {
     "name": "stdout",
     "output_type": "stream",
     "text": [
      "Note: you may need to restart the kernel to use updated packages.\n",
      "Collecting opencv-python\n",
      "  Downloading opencv_python-4.11.0.86-cp37-abi3-win_amd64.whl.metadata (20 kB)\n",
      "Requirement already satisfied: tensorflow in c:\\users\\asus\\anaconda3\\lib\\site-packages (2.18.0)\n",
      "Requirement already satisfied: keras in c:\\users\\asus\\anaconda3\\lib\\site-packages (3.8.0)\n",
      "Requirement already satisfied: numpy in c:\\users\\asus\\anaconda3\\lib\\site-packages (1.26.4)\n",
      "Requirement already satisfied: matplotlib in c:\\users\\asus\\anaconda3\\lib\\site-packages (3.10.0)\n",
      "Requirement already satisfied: tensorflow-intel==2.18.0 in c:\\users\\asus\\anaconda3\\lib\\site-packages (from tensorflow) (2.18.0)\n",
      "Requirement already satisfied: absl-py>=1.0.0 in c:\\users\\asus\\anaconda3\\lib\\site-packages (from tensorflow-intel==2.18.0->tensorflow) (2.1.0)\n",
      "Requirement already satisfied: astunparse>=1.6.0 in c:\\users\\asus\\anaconda3\\lib\\site-packages (from tensorflow-intel==2.18.0->tensorflow) (1.6.3)\n",
      "Requirement already satisfied: flatbuffers>=24.3.25 in c:\\users\\asus\\anaconda3\\lib\\site-packages (from tensorflow-intel==2.18.0->tensorflow) (25.1.21)\n",
      "Requirement already satisfied: gast!=0.5.0,!=0.5.1,!=0.5.2,>=0.2.1 in c:\\users\\asus\\anaconda3\\lib\\site-packages (from tensorflow-intel==2.18.0->tensorflow) (0.6.0)\n",
      "Requirement already satisfied: google-pasta>=0.1.1 in c:\\users\\asus\\anaconda3\\lib\\site-packages (from tensorflow-intel==2.18.0->tensorflow) (0.2.0)\n",
      "Requirement already satisfied: libclang>=13.0.0 in c:\\users\\asus\\anaconda3\\lib\\site-packages (from tensorflow-intel==2.18.0->tensorflow) (18.1.1)\n",
      "Requirement already satisfied: opt-einsum>=2.3.2 in c:\\users\\asus\\anaconda3\\lib\\site-packages (from tensorflow-intel==2.18.0->tensorflow) (3.4.0)\n",
      "Requirement already satisfied: packaging in c:\\users\\asus\\anaconda3\\lib\\site-packages (from tensorflow-intel==2.18.0->tensorflow) (24.1)\n",
      "Requirement already satisfied: protobuf!=4.21.0,!=4.21.1,!=4.21.2,!=4.21.3,!=4.21.4,!=4.21.5,<6.0.0dev,>=3.20.3 in c:\\users\\asus\\anaconda3\\lib\\site-packages (from tensorflow-intel==2.18.0->tensorflow) (4.25.3)\n",
      "Requirement already satisfied: requests<3,>=2.21.0 in c:\\users\\asus\\anaconda3\\lib\\site-packages (from tensorflow-intel==2.18.0->tensorflow) (2.32.3)\n",
      "Requirement already satisfied: setuptools in c:\\users\\asus\\anaconda3\\lib\\site-packages (from tensorflow-intel==2.18.0->tensorflow) (75.1.0)\n",
      "Requirement already satisfied: six>=1.12.0 in c:\\users\\asus\\anaconda3\\lib\\site-packages (from tensorflow-intel==2.18.0->tensorflow) (1.16.0)\n",
      "Requirement already satisfied: termcolor>=1.1.0 in c:\\users\\asus\\anaconda3\\lib\\site-packages (from tensorflow-intel==2.18.0->tensorflow) (2.5.0)\n",
      "Requirement already satisfied: typing-extensions>=3.6.6 in c:\\users\\asus\\anaconda3\\lib\\site-packages (from tensorflow-intel==2.18.0->tensorflow) (4.11.0)\n",
      "Requirement already satisfied: wrapt>=1.11.0 in c:\\users\\asus\\anaconda3\\lib\\site-packages (from tensorflow-intel==2.18.0->tensorflow) (1.14.1)\n",
      "Requirement already satisfied: grpcio<2.0,>=1.24.3 in c:\\users\\asus\\anaconda3\\lib\\site-packages (from tensorflow-intel==2.18.0->tensorflow) (1.69.0)\n",
      "Requirement already satisfied: tensorboard<2.19,>=2.18 in c:\\users\\asus\\anaconda3\\lib\\site-packages (from tensorflow-intel==2.18.0->tensorflow) (2.18.0)\n",
      "Requirement already satisfied: h5py>=3.11.0 in c:\\users\\asus\\anaconda3\\lib\\site-packages (from tensorflow-intel==2.18.0->tensorflow) (3.11.0)\n",
      "Requirement already satisfied: ml-dtypes<0.5.0,>=0.4.0 in c:\\users\\asus\\anaconda3\\lib\\site-packages (from tensorflow-intel==2.18.0->tensorflow) (0.4.1)\n",
      "Requirement already satisfied: rich in c:\\users\\asus\\anaconda3\\lib\\site-packages (from keras) (13.7.1)\n",
      "Requirement already satisfied: namex in c:\\users\\asus\\anaconda3\\lib\\site-packages (from keras) (0.0.8)\n",
      "Requirement already satisfied: optree in c:\\users\\asus\\anaconda3\\lib\\site-packages (from keras) (0.14.0)\n",
      "Requirement already satisfied: contourpy>=1.0.1 in c:\\users\\asus\\anaconda3\\lib\\site-packages (from matplotlib) (1.2.0)\n",
      "Requirement already satisfied: cycler>=0.10 in c:\\users\\asus\\anaconda3\\lib\\site-packages (from matplotlib) (0.11.0)\n",
      "Requirement already satisfied: fonttools>=4.22.0 in c:\\users\\asus\\anaconda3\\lib\\site-packages (from matplotlib) (4.51.0)\n",
      "Requirement already satisfied: kiwisolver>=1.3.1 in c:\\users\\asus\\anaconda3\\lib\\site-packages (from matplotlib) (1.4.4)\n",
      "Requirement already satisfied: pillow>=8 in c:\\users\\asus\\anaconda3\\lib\\site-packages (from matplotlib) (10.4.0)\n",
      "Requirement already satisfied: pyparsing>=2.3.1 in c:\\users\\asus\\anaconda3\\lib\\site-packages (from matplotlib) (3.1.2)\n",
      "Requirement already satisfied: python-dateutil>=2.7 in c:\\users\\asus\\anaconda3\\lib\\site-packages (from matplotlib) (2.9.0.post0)\n",
      "Requirement already satisfied: markdown-it-py>=2.2.0 in c:\\users\\asus\\anaconda3\\lib\\site-packages (from rich->keras) (2.2.0)\n",
      "Requirement already satisfied: pygments<3.0.0,>=2.13.0 in c:\\users\\asus\\anaconda3\\lib\\site-packages (from rich->keras) (2.15.1)\n",
      "Requirement already satisfied: wheel<1.0,>=0.23.0 in c:\\users\\asus\\anaconda3\\lib\\site-packages (from astunparse>=1.6.0->tensorflow-intel==2.18.0->tensorflow) (0.44.0)\n",
      "Requirement already satisfied: mdurl~=0.1 in c:\\users\\asus\\anaconda3\\lib\\site-packages (from markdown-it-py>=2.2.0->rich->keras) (0.1.0)\n",
      "Requirement already satisfied: charset-normalizer<4,>=2 in c:\\users\\asus\\anaconda3\\lib\\site-packages (from requests<3,>=2.21.0->tensorflow-intel==2.18.0->tensorflow) (3.3.2)\n",
      "Requirement already satisfied: idna<4,>=2.5 in c:\\users\\asus\\anaconda3\\lib\\site-packages (from requests<3,>=2.21.0->tensorflow-intel==2.18.0->tensorflow) (3.7)\n",
      "Requirement already satisfied: urllib3<3,>=1.21.1 in c:\\users\\asus\\anaconda3\\lib\\site-packages (from requests<3,>=2.21.0->tensorflow-intel==2.18.0->tensorflow) (2.2.3)\n",
      "Requirement already satisfied: certifi>=2017.4.17 in c:\\users\\asus\\anaconda3\\lib\\site-packages (from requests<3,>=2.21.0->tensorflow-intel==2.18.0->tensorflow) (2024.12.14)\n",
      "Requirement already satisfied: markdown>=2.6.8 in c:\\users\\asus\\anaconda3\\lib\\site-packages (from tensorboard<2.19,>=2.18->tensorflow-intel==2.18.0->tensorflow) (3.4.1)\n",
      "Requirement already satisfied: tensorboard-data-server<0.8.0,>=0.7.0 in c:\\users\\asus\\anaconda3\\lib\\site-packages (from tensorboard<2.19,>=2.18->tensorflow-intel==2.18.0->tensorflow) (0.7.2)\n",
      "Requirement already satisfied: werkzeug>=1.0.1 in c:\\users\\asus\\anaconda3\\lib\\site-packages (from tensorboard<2.19,>=2.18->tensorflow-intel==2.18.0->tensorflow) (3.0.3)\n",
      "Requirement already satisfied: MarkupSafe>=2.1.1 in c:\\users\\asus\\anaconda3\\lib\\site-packages (from werkzeug>=1.0.1->tensorboard<2.19,>=2.18->tensorflow-intel==2.18.0->tensorflow) (2.1.3)\n",
      "Downloading opencv_python-4.11.0.86-cp37-abi3-win_amd64.whl (39.5 MB)\n",
      "   ---------------------------------------- 0.0/39.5 MB ? eta -:--:--\n",
      "   - -------------------------------------- 1.0/39.5 MB 7.2 MB/s eta 0:00:06\n",
      "   - -------------------------------------- 1.3/39.5 MB 5.6 MB/s eta 0:00:07\n",
      "   -- ------------------------------------- 2.1/39.5 MB 3.9 MB/s eta 0:00:10\n",
      "   -- ------------------------------------- 2.6/39.5 MB 3.3 MB/s eta 0:00:12\n",
      "   --- ------------------------------------ 3.4/39.5 MB 3.5 MB/s eta 0:00:11\n",
      "   --- ------------------------------------ 3.9/39.5 MB 3.3 MB/s eta 0:00:11\n",
      "   ---- ----------------------------------- 4.5/39.5 MB 3.3 MB/s eta 0:00:11\n",
      "   ----- ---------------------------------- 5.2/39.5 MB 3.2 MB/s eta 0:00:11\n",
      "   ------ --------------------------------- 6.0/39.5 MB 3.3 MB/s eta 0:00:11\n",
      "   ------ --------------------------------- 6.8/39.5 MB 3.4 MB/s eta 0:00:10\n",
      "   ------- -------------------------------- 7.6/39.5 MB 3.4 MB/s eta 0:00:10\n",
      "   -------- ------------------------------- 8.4/39.5 MB 3.4 MB/s eta 0:00:10\n",
      "   --------- ------------------------------ 9.2/39.5 MB 3.4 MB/s eta 0:00:09\n",
      "   ---------- ----------------------------- 10.0/39.5 MB 3.4 MB/s eta 0:00:09\n",
      "   ---------- ----------------------------- 10.7/39.5 MB 3.5 MB/s eta 0:00:09\n",
      "   ----------- ---------------------------- 11.5/39.5 MB 3.5 MB/s eta 0:00:09\n",
      "   ------------ --------------------------- 12.1/39.5 MB 3.5 MB/s eta 0:00:08\n",
      "   ------------- -------------------------- 12.8/39.5 MB 3.5 MB/s eta 0:00:08\n",
      "   ------------- -------------------------- 13.6/39.5 MB 3.5 MB/s eta 0:00:08\n",
      "   -------------- ------------------------- 14.4/39.5 MB 3.5 MB/s eta 0:00:08\n",
      "   --------------- ------------------------ 15.2/39.5 MB 3.5 MB/s eta 0:00:07\n",
      "   ---------------- ----------------------- 16.0/39.5 MB 3.5 MB/s eta 0:00:07\n",
      "   ---------------- ----------------------- 16.5/39.5 MB 3.5 MB/s eta 0:00:07\n",
      "   ----------------- ---------------------- 17.3/39.5 MB 3.5 MB/s eta 0:00:07\n",
      "   ------------------ --------------------- 18.1/39.5 MB 3.5 MB/s eta 0:00:07\n",
      "   ------------------- -------------------- 18.9/39.5 MB 3.5 MB/s eta 0:00:06\n",
      "   ------------------- -------------------- 19.4/39.5 MB 3.5 MB/s eta 0:00:06\n",
      "   -------------------- ------------------- 20.2/39.5 MB 3.5 MB/s eta 0:00:06\n",
      "   --------------------- ------------------ 21.0/39.5 MB 3.5 MB/s eta 0:00:06\n",
      "   ---------------------- ----------------- 21.8/39.5 MB 3.5 MB/s eta 0:00:06\n",
      "   ---------------------- ----------------- 22.5/39.5 MB 3.5 MB/s eta 0:00:05\n",
      "   ----------------------- ---------------- 23.3/39.5 MB 3.5 MB/s eta 0:00:05\n",
      "   ------------------------ --------------- 23.9/39.5 MB 3.5 MB/s eta 0:00:05\n",
      "   ------------------------ --------------- 24.6/39.5 MB 3.5 MB/s eta 0:00:05\n",
      "   ------------------------- -------------- 25.4/39.5 MB 3.5 MB/s eta 0:00:05\n",
      "   -------------------------- ------------- 26.2/39.5 MB 3.5 MB/s eta 0:00:04\n",
      "   --------------------------- ------------ 27.0/39.5 MB 3.5 MB/s eta 0:00:04\n",
      "   ---------------------------- ----------- 27.8/39.5 MB 3.5 MB/s eta 0:00:04\n",
      "   ---------------------------- ----------- 28.6/39.5 MB 3.5 MB/s eta 0:00:04\n",
      "   ----------------------------- ---------- 29.1/39.5 MB 3.5 MB/s eta 0:00:03\n",
      "   ------------------------------ --------- 29.9/39.5 MB 3.5 MB/s eta 0:00:03\n",
      "   ------------------------------- -------- 30.7/39.5 MB 3.5 MB/s eta 0:00:03\n",
      "   ------------------------------- -------- 31.5/39.5 MB 3.5 MB/s eta 0:00:03\n",
      "   -------------------------------- ------- 32.2/39.5 MB 3.5 MB/s eta 0:00:03\n",
      "   --------------------------------- ------ 32.8/39.5 MB 3.5 MB/s eta 0:00:02\n",
      "   --------------------------------- ------ 33.6/39.5 MB 3.5 MB/s eta 0:00:02\n",
      "   ---------------------------------- ----- 34.3/39.5 MB 3.5 MB/s eta 0:00:02\n",
      "   ----------------------------------- ---- 35.1/39.5 MB 3.5 MB/s eta 0:00:02\n",
      "   ------------------------------------ --- 35.7/39.5 MB 3.5 MB/s eta 0:00:02\n",
      "   ------------------------------------ --- 35.7/39.5 MB 3.5 MB/s eta 0:00:02\n",
      "   ------------------------------------ --- 36.4/39.5 MB 3.4 MB/s eta 0:00:01\n",
      "   ------------------------------------- -- 37.5/39.5 MB 3.5 MB/s eta 0:00:01\n",
      "   -------------------------------------- - 38.3/39.5 MB 3.5 MB/s eta 0:00:01\n",
      "   ---------------------------------------  39.1/39.5 MB 3.5 MB/s eta 0:00:01\n",
      "   ---------------------------------------  39.3/39.5 MB 3.5 MB/s eta 0:00:01\n",
      "   ---------------------------------------- 39.5/39.5 MB 3.4 MB/s eta 0:00:00\n",
      "Installing collected packages: opencv-python\n",
      "Successfully installed opencv-python-4.11.0.86\n"
     ]
    },
    {
     "name": "stderr",
     "output_type": "stream",
     "text": [
      "WARNING: Ignoring invalid distribution ~atplotlib (C:\\Users\\ASUS\\anaconda3\\Lib\\site-packages)\n",
      "WARNING: Ignoring invalid distribution ~atplotlib (C:\\Users\\ASUS\\anaconda3\\Lib\\site-packages)\n",
      "WARNING: Ignoring invalid distribution ~atplotlib (C:\\Users\\ASUS\\anaconda3\\Lib\\site-packages)\n"
     ]
    }
   ],
   "source": [
    "pip install opencv-python tensorflow keras numpy matplotlib"
   ]
  },
  {
   "cell_type": "code",
   "execution_count": 58,
   "id": "809abefa-3ba8-44fc-9261-09137da5f7f0",
   "metadata": {},
   "outputs": [],
   "source": [
    "import cv2\n",
    "import numpy as np\n",
    "from tensorflow.keras.models import Sequential\n",
    "from tensorflow.keras.layers import Conv2D, MaxPooling2D, Flatten, Dense\n",
    "import matplotlib.pyplot as plt\n"
   ]
  },
  {
   "cell_type": "code",
   "execution_count": 60,
   "id": "f009ca44-b935-4f1e-b928-e23bf5784df0",
   "metadata": {},
   "outputs": [],
   "source": [
    "image = cv2.imread(r\"C:\\Users\\ASUS\\Downloads\\image.jpeg\")\n",
    "image = cv2.resize(image, (64, 64))  # Resize for CNN input\n",
    "image = (image * 255).astype(np.uint8)  \n",
    "image = np.expand_dims(image, axis=0)  "
   ]
  },
  {
   "cell_type": "code",
   "execution_count": 62,
   "id": "0984a3c2-8bf6-49bf-a120-0c6a967d1f73",
   "metadata": {},
   "outputs": [
    {
     "data": {
      "image/png": "[encoded data removed]",
      "text/plain": [
       "<Figure size 640x480 with 1 Axes>"
      ]
     },
     "metadata": {},
     "output_type": "display_data"
    }
   ],
   "source": [
    "plt.imshow(cv2.cvtColor(image[0], cv2.COLOR_BGR2RGB))\n",
    "plt.title(\"Processed Image\")\n",
    "plt.show()\n"
   ]
  },
  {
   "cell_type": "code",
   "execution_count": 64,
   "id": "8bf20935-9420-47c2-995f-7705ce5ea243",
   "metadata": {},
   "outputs": [],
   "source": [
    "model = Sequential([\n",
    "    Conv2D(32, (3,3), activation='relu', input_shape=(64, 64, 3)),\n",
    "    MaxPooling2D(2,2),\n",
    "    Flatten(),\n",
    "    Dense(128, activation='relu'),\n",
    "    Dense(2, activation='softmax')  # Binary classification\n",
    "])\n",
    "\n",
    "model.compile(optimizer='adam', loss='categorical_crossentropy', metrics=['accuracy'])"
   ]
  },
  {
   "cell_type": "code",
   "execution_count": 66,
   "id": "1d64d338-5bf5-4370-b86e-9c4f57a28c90",
   "metadata": {},
   "outputs": [
    {
     "name": "stdout",
     "output_type": "stream",
     "text": [
      "\u001b[1m1/1\u001b[0m \u001b[32m━━━━━━━━━━━━━━━━━━━━\u001b[0m\u001b[37m\u001b[0m \u001b[1m0s\u001b[0m 110ms/step\n",
      "Predicted Class: 0\n"
     ]
    }
   ],
   "source": [
    "prediction = model.predict(image)\n",
    "print(\"Predicted Class:\", np.argmax(prediction))  "
   ]
  },
  {
   "cell_type": "code",
   "execution_count": null,
   "id": "facd1db0-0dcc-4f6c-9cec-230057bcc2e8",
   "metadata": {},
   "outputs": [],
   "source": []
  },
  {
   "cell_type": "code",
   "execution_count": null,
   "id": "5e94dfb1-70a0-4888-bd97-83d5d1bdf50d",
   "metadata": {},
   "outputs": [],
   "source": []
  }
 ],
 "metadata": {
  "kernelspec": {
   "display_name": "Python [conda env:base] *",
   "language": "python",
   "name": "conda-base-py"
  },
  "language_info": {
   "codemirror_mode": {
    "name": "ipython",
    "version": 3
   },
   "file_extension": ".py",
   "mimetype": "text/x-python",
   "name": "python",
   "nbconvert_exporter": "python",
   "pygments_lexer": "ipython3",
   "version": "3.12.7"
  }
 },
 "nbformat": 4,
 "nbformat_minor": 5
}
